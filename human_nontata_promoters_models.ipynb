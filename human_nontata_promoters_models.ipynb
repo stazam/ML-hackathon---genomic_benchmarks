{
  "nbformat": 4,
  "nbformat_minor": 0,
  "metadata": {
    "colab": {
      "name": "Introduction_script.ipynb",
      "provenance": [],
      "mount_file_id": "https://github.com/stazam/ML-hackathon---genomic_benchmarks/blob/main/Introduction_script.ipynb",
      "authorship_tag": "ABX9TyNO/mfrxjxxvhNdZxDWBs8x",
      "include_colab_link": true
    },
    "kernelspec": {
      "name": "python3",
      "display_name": "Python 3"
    },
    "language_info": {
      "name": "python"
    },
    "accelerator": "GPU"
  },
  "cells": [
    {
      "cell_type": "markdown",
      "metadata": {
        "id": "view-in-github",
        "colab_type": "text"
      },
      "source": [
        "<a href=\"https://colab.research.google.com/github/stazam/ML-hackathon---genomic_benchmarks/blob/main/human_nontata_promoters_models.ipynb\" target=\"_parent\"><img src=\"https://colab.research.google.com/assets/colab-badge.svg\" alt=\"Open In Colab\"/></a>"
      ]
    },
    {
      "cell_type": "markdown",
      "metadata": {
        "id": "FXSk4U0WMDps"
      },
      "source": [
        "#Dataset - human_nontata_promoters \n",
        "\n",
        "Použil som dva modely:\n",
        "\n",
        "1. CNN (vyžitá funkcia **CNN_model**) - touto architektúrou sa mi podarilo dosiahnuť maximálne **87%** (pri hodnote loss funkcie asi 31.5). Avšak metóda je nestabilnejšia ale permanentne dáva výsledky cez **86%** (na testovacej sade) pri použití aspoň 5 epoch.\n",
        "\n",
        "2. CNN + Bi-LSTM vrstva - stabilnejšia architektúra. Ňou sa mi maximálne podarilo dosiahnuť asi **86.2%** (tento výsledok sa dá disiahnuť opakovane).\n",
        "\n",
        "Návrh ďalších architektúr ktoré som chcel vyskúšať. Použiť K-mery, podľa článku tu: https://www.hindawi.com/journals/cmmm/2021/1835056/ by to malo viesť ešte k lepším výsledkom. Bohužiaľ už mi na vyskúšanie nevyšiel čas :D"
      ]
    },
    {
      "cell_type": "code",
      "metadata": {
        "id": "lwdfWzo_yiyf"
      },
      "source": [
        "#pip install genomic_benchmarks --upgrade\n",
        "%%capture\n",
        "!pip install genomic_benchmarks\n",
        "\n",
        "import numpy as np\n",
        "import pandas as pd\n",
        "import tensorflow as tf\n",
        "from tensorflow import keras\n",
        "import sys\n",
        "import matplotlib.pyplot as plt\n",
        "from matplotlib.pyplot import figure\n",
        "\n",
        "\n",
        "from keras.models import Sequential\n",
        "from keras.layers import Dense, Dropout, Bidirectional, Activation, Flatten, MaxPooling1D, BatchNormalization, Conv1D\n",
        "from keras import optimizers\n",
        "from sklearn.model_selection import train_test_split\n",
        "from pathlib import Path\n",
        "\n",
        "\n",
        "from genomic_benchmarks.loc2seq import download_dataset\n",
        "from genomic_benchmarks.data_check import is_downloaded, info, list_datasets"
      ],
      "execution_count": 20,
      "outputs": []
    },
    {
      "cell_type": "code",
      "metadata": {
        "colab": {
          "base_uri": "https://localhost:8080/",
          "height": 199
        },
        "id": "ivw5yBAcyrLX",
        "outputId": "9246dc5f-fca5-46a6-b8b6-10f20e716464"
      },
      "source": [
        "info('human_nontata_promoters', 0)"
      ],
      "execution_count": 21,
      "outputs": [
        {
          "output_type": "stream",
          "name": "stdout",
          "text": [
            "Dataset `human_nontata_promoters` has 2 classes: negative, positive.\n",
            "\n",
            "All lenghts of genomic intervals equals 251.\n",
            "\n",
            "Totally 36131 sequences have been found, 27097 for training and 9034 for testing.\n"
          ]
        },
        {
          "output_type": "execute_result",
          "data": {
            "text/html": [
              "<div>\n",
              "<style scoped>\n",
              "    .dataframe tbody tr th:only-of-type {\n",
              "        vertical-align: middle;\n",
              "    }\n",
              "\n",
              "    .dataframe tbody tr th {\n",
              "        vertical-align: top;\n",
              "    }\n",
              "\n",
              "    .dataframe thead th {\n",
              "        text-align: right;\n",
              "    }\n",
              "</style>\n",
              "<table border=\"1\" class=\"dataframe\">\n",
              "  <thead>\n",
              "    <tr style=\"text-align: right;\">\n",
              "      <th></th>\n",
              "      <th>train</th>\n",
              "      <th>test</th>\n",
              "    </tr>\n",
              "  </thead>\n",
              "  <tbody>\n",
              "    <tr>\n",
              "      <th>negative</th>\n",
              "      <td>12355</td>\n",
              "      <td>4119</td>\n",
              "    </tr>\n",
              "    <tr>\n",
              "      <th>positive</th>\n",
              "      <td>14742</td>\n",
              "      <td>4915</td>\n",
              "    </tr>\n",
              "  </tbody>\n",
              "</table>\n",
              "</div>"
            ],
            "text/plain": [
              "          train  test\n",
              "negative  12355  4119\n",
              "positive  14742  4915"
            ]
          },
          "metadata": {},
          "execution_count": 21
        }
      ]
    },
    {
      "cell_type": "code",
      "metadata": {
        "colab": {
          "base_uri": "https://localhost:8080/"
        },
        "id": "_yFfNuoKyrPe",
        "outputId": "456ff44c-87f7-409f-fbd4-d82441decd53"
      },
      "source": [
        "download_dataset(\"human_nontata_promoters\", version=0)"
      ],
      "execution_count": 22,
      "outputs": [
        {
          "output_type": "stream",
          "name": "stdout",
          "text": [
            "Downloading 1VdUg0Zu8yfLS6QesBXwGz1PIQrTW3Ze4 into /root/.genomic_benchmarks/human_nontata_promoters.zip... Done.\n",
            "Unzipping...Done.\n"
          ]
        },
        {
          "output_type": "execute_result",
          "data": {
            "text/plain": [
              "PosixPath('/root/.genomic_benchmarks/human_nontata_promoters')"
            ]
          },
          "metadata": {},
          "execution_count": 22
        }
      ]
    },
    {
      "cell_type": "code",
      "metadata": {
        "colab": {
          "base_uri": "https://localhost:8080/"
        },
        "id": "yyuXy8ZNzj4T",
        "outputId": "0dc64907-54ae-4869-cdb6-7ebe722dd35e"
      },
      "source": [
        "SEQ_PATH = Path.home() / '.genomic_benchmarks' / 'human_nontata_promoters'\n",
        "CLASSES = [x.stem for x in (SEQ_PATH/'train').iterdir() if x.is_dir()]\n",
        "\n",
        "train_dset = tf.keras.preprocessing.text_dataset_from_directory(\n",
        "    SEQ_PATH / 'train',\n",
        "    batch_size=27097,\n",
        "    class_names=CLASSES)"
      ],
      "execution_count": 23,
      "outputs": [
        {
          "output_type": "stream",
          "name": "stdout",
          "text": [
            "Found 27097 files belonging to 2 classes.\n"
          ]
        }
      ]
    },
    {
      "cell_type": "code",
      "metadata": {
        "colab": {
          "base_uri": "https://localhost:8080/"
        },
        "id": "S5bKbiFCh0ka",
        "outputId": "cc790f59-628a-47ee-90a4-47678f33ea42"
      },
      "source": [
        "SEQ_PATH = Path.home() / '.genomic_benchmarks' / 'human_nontata_promoters'\n",
        "CLASSES = [x.stem for x in (SEQ_PATH/'test').iterdir() if x.is_dir()]\n",
        "\n",
        "test_dset = tf.keras.preprocessing.text_dataset_from_directory(\n",
        "    SEQ_PATH / 'test',\n",
        "    batch_size=9034,\n",
        "    class_names=CLASSES) "
      ],
      "execution_count": 24,
      "outputs": [
        {
          "output_type": "stream",
          "name": "stdout",
          "text": [
            "Found 9034 files belonging to 2 classes.\n"
          ]
        }
      ]
    },
    {
      "cell_type": "code",
      "metadata": {
        "colab": {
          "base_uri": "https://localhost:8080/"
        },
        "id": "m9yjQMc1reOK",
        "outputId": "cc4d729f-0344-4fe5-d630-11d5d7004a8d"
      },
      "source": [
        "from google.colab import drive\n",
        "drive.mount('/content/drive',  force_remount=True)\n"
      ],
      "execution_count": 25,
      "outputs": [
        {
          "output_type": "stream",
          "name": "stdout",
          "text": [
            "Mounted at /content/drive\n"
          ]
        }
      ]
    },
    {
      "cell_type": "code",
      "metadata": {
        "id": "OC2UqqcyrCob"
      },
      "source": [
        "sys.path.append('/content/drive/MyDrive/ML_Hackathon/')\n",
        "\n",
        "from help_functions import *"
      ],
      "execution_count": 26,
      "outputs": []
    },
    {
      "cell_type": "code",
      "metadata": {
        "id": "kgmMqM9gNgA9"
      },
      "source": [
        "X_train, y_train, sequence_size = preprocess_NN(train_dset)\n",
        "X_ev, y_ev, _ = preprocess_NN(test_dset)"
      ],
      "execution_count": 27,
      "outputs": []
    },
    {
      "cell_type": "code",
      "metadata": {
        "colab": {
          "base_uri": "https://localhost:8080/"
        },
        "id": "wWDkivuKNgEQ",
        "outputId": "d1af54d7-cf2c-479a-aff5-f2ef09489b42"
      },
      "source": [
        "print(X_ev.shape)\n",
        "print(y_ev.shape)"
      ],
      "execution_count": 28,
      "outputs": [
        {
          "output_type": "stream",
          "name": "stdout",
          "text": [
            "(9033, 251, 4)\n",
            "(9033,)\n"
          ]
        }
      ]
    },
    {
      "cell_type": "markdown",
      "metadata": {
        "id": "DTzNVb-YW6fl"
      },
      "source": [
        "**Toto je moja najlepšia CNN architekrúra ktorou som dosiahol 86% (pár krát sa to prehuplo aj cez 87%).**"
      ]
    },
    {
      "cell_type": "code",
      "metadata": {
        "id": "oPQ_dRp_rdKO"
      },
      "source": [
        "def CNN_model(sequence_size):\n",
        "  model = Sequential([\n",
        "        Conv1D(filters = 32, kernel_size=8, padding='same', activation = 'relu', input_shape=(sequence_size, 4)),\n",
        "        Dropout(0.5),\n",
        "        Flatten(),\n",
        "        Dense(128, activation='relu'),\n",
        "        Dense(128, activation='relu'),\n",
        "        Dense(64, activation='relu'),\n",
        "        Dense(64, activation='relu'),\n",
        "        Dropout(0.5),\n",
        "        Dense(1, activation='sigmoid')\n",
        "    ])\n",
        "\n",
        "  model.summary()\n",
        "\n",
        "  return model"
      ],
      "execution_count": 16,
      "outputs": []
    },
    {
      "cell_type": "markdown",
      "metadata": {
        "id": "4T9-Wkj83Fdp"
      },
      "source": [
        "**Toto je moja najlepšia CNN + Bi-LSTM architekrúra ktorou som dosiahol 86,2%.**\n"
      ]
    },
    {
      "cell_type": "code",
      "metadata": {
        "id": "Gi9rG-7sd0I-"
      },
      "source": [
        "def CNN_LSTM_model(sequence_size):\n",
        "  model = Sequential([\n",
        "        Conv1D(filters = 32, kernel_size=8, padding='same', activation = 'relu', input_shape=(sequence_size, 4)),\n",
        "        Bidirectional(keras.layers.LSTM(32, return_sequences=True)),\n",
        "        Bidirectional(keras.layers.LSTM(16, return_sequences=True)),\n",
        "        Dropout(0.5),\n",
        "        Flatten(),\n",
        "        Dense(128, activation='relu'),\n",
        "        Dense(16, activation='relu'),\n",
        "        Dropout(0.5),\n",
        "        Dense(1, activation='sigmoid')\n",
        "    ])\n",
        "\n",
        "  model.summary()\n",
        "\n",
        "  return model\n",
        "\n"
      ],
      "execution_count": 46,
      "outputs": []
    },
    {
      "cell_type": "code",
      "metadata": {
        "colab": {
          "base_uri": "https://localhost:8080/"
        },
        "id": "VofQd5UXMyJT",
        "outputId": "e7583b2d-588f-4eec-b0c3-5dde4d4a4724"
      },
      "source": [
        "X_train, X_test, y_train, y_test = train_test_split(X_train, y_train, train_size = 0.8, random_state = 20)\n",
        "model = CNN_LSTM_model(sequence_size)\n",
        "\n",
        "model.compile(\n",
        "        optimizer='rmsprop',\n",
        "        loss='binary_crossentropy',\n",
        "        metrics=['accuracy']\n",
        "    )\n",
        "\n",
        "models_data = model.fit(X_train, y_train, batch_size=32, epochs=8, validation_data = (X_test, y_test))"
      ],
      "execution_count": 47,
      "outputs": [
        {
          "output_type": "stream",
          "name": "stdout",
          "text": [
            "Model: \"sequential_3\"\n",
            "_________________________________________________________________\n",
            " Layer (type)                Output Shape              Param #   \n",
            "=================================================================\n",
            " conv1d_3 (Conv1D)           (None, 251, 32)           1056      \n",
            "                                                                 \n",
            " bidirectional_6 (Bidirectio  (None, 251, 64)          16640     \n",
            " nal)                                                            \n",
            "                                                                 \n",
            " bidirectional_7 (Bidirectio  (None, 251, 32)          10368     \n",
            " nal)                                                            \n",
            "                                                                 \n",
            " dropout_6 (Dropout)         (None, 251, 32)           0         \n",
            "                                                                 \n",
            " flatten_3 (Flatten)         (None, 8032)              0         \n",
            "                                                                 \n",
            " dense_7 (Dense)             (None, 128)               1028224   \n",
            "                                                                 \n",
            " dense_8 (Dense)             (None, 64)                8256      \n",
            "                                                                 \n",
            " dropout_7 (Dropout)         (None, 64)                0         \n",
            "                                                                 \n",
            " dense_9 (Dense)             (None, 1)                 65        \n",
            "                                                                 \n",
            "=================================================================\n",
            "Total params: 1,064,609\n",
            "Trainable params: 1,064,609\n",
            "Non-trainable params: 0\n",
            "_________________________________________________________________\n",
            "Epoch 1/8\n",
            "678/678 [==============================] - 265s 380ms/step - loss: 0.4878 - accuracy: 0.7676 - val_loss: 0.4179 - val_accuracy: 0.8044\n",
            "Epoch 2/8\n",
            "678/678 [==============================] - 255s 376ms/step - loss: 0.4164 - accuracy: 0.8078 - val_loss: 0.3854 - val_accuracy: 0.8207\n",
            "Epoch 3/8\n",
            "678/678 [==============================] - 255s 376ms/step - loss: 0.3810 - accuracy: 0.8278 - val_loss: 0.3708 - val_accuracy: 0.8347\n",
            "Epoch 4/8\n",
            "678/678 [==============================] - 255s 377ms/step - loss: 0.3598 - accuracy: 0.8402 - val_loss: 0.3954 - val_accuracy: 0.8284\n",
            "Epoch 5/8\n",
            "678/678 [==============================] - 257s 379ms/step - loss: 0.3429 - accuracy: 0.8483 - val_loss: 0.3861 - val_accuracy: 0.8244\n",
            "Epoch 6/8\n",
            "678/678 [==============================] - 257s 379ms/step - loss: 0.3289 - accuracy: 0.8555 - val_loss: 0.3734 - val_accuracy: 0.8343\n",
            "Epoch 7/8\n",
            "678/678 [==============================] - 261s 385ms/step - loss: 0.3143 - accuracy: 0.8639 - val_loss: 0.3535 - val_accuracy: 0.8480\n",
            "Epoch 8/8\n",
            "678/678 [==============================] - 260s 384ms/step - loss: 0.2994 - accuracy: 0.8706 - val_loss: 0.3518 - val_accuracy: 0.8472\n"
          ]
        }
      ]
    },
    {
      "cell_type": "code",
      "metadata": {
        "colab": {
          "base_uri": "https://localhost:8080/"
        },
        "id": "bV8j3H8tNyET",
        "outputId": "b2f0b6df-c193-4b53-8cd3-4451d14a095c"
      },
      "source": [
        "metrics = model.evaluate(X_ev, y_ev, verbose=0)\n",
        "print('model evaluation on unknown dataset [loss, accuracy]:', metrics)"
      ],
      "execution_count": 48,
      "outputs": [
        {
          "output_type": "stream",
          "name": "stdout",
          "text": [
            "model evaluation on unknown dataset [loss, accuracy]: [0.33043742179870605, 0.8612864017486572]\n"
          ]
        }
      ]
    }
  ]
}