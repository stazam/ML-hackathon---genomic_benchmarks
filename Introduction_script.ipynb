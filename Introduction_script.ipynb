{
  "nbformat": 4,
  "nbformat_minor": 0,
  "metadata": {
    "colab": {
      "name": "Introduction_script.ipynb",
      "provenance": [],
      "mount_file_id": "https://github.com/stazam/ML-hackathon---genomic_benchmarks/blob/main/Introduction_script.ipynb",
      "authorship_tag": "ABX9TyODhw6tONc3XPXAuWEv5PYo",
      "include_colab_link": true
    },
    "kernelspec": {
      "name": "python3",
      "display_name": "Python 3"
    },
    "language_info": {
      "name": "python"
    },
    "accelerator": "TPU"
  },
  "cells": [
    {
      "cell_type": "markdown",
      "metadata": {
        "id": "view-in-github",
        "colab_type": "text"
      },
      "source": [
        "<a href=\"https://colab.research.google.com/github/stazam/ML-hackathon---genomic_benchmarks/blob/main/Introduction_script.ipynb\" target=\"_parent\"><img src=\"https://colab.research.google.com/assets/colab-badge.svg\" alt=\"Open In Colab\"/></a>"
      ]
    },
    {
      "cell_type": "code",
      "metadata": {
        "id": "lwdfWzo_yiyf"
      },
      "source": [
        "#pip install genomic_benchmarks --upgrade\n",
        "%%capture\n",
        "!pip install genomic_benchmarks\n",
        "\n",
        "import numpy as np\n",
        "import pandas as pd\n",
        "import tensorflow as tf\n",
        "from tensorflow import keras\n",
        "import sys\n",
        "import matplotlib.pyplot as plt\n",
        "from matplotlib.pyplot import figure\n",
        "\n",
        "\n",
        "from keras.models import Sequential\n",
        "from keras.layers import Dense, Dropout, Activation, Flatten, MaxPooling1D, BatchNormalization, Conv1D\n",
        "from keras import optimizers\n",
        "from sklearn.model_selection import train_test_split\n",
        "from pathlib import Path\n",
        "\n",
        "\n",
        "from genomic_benchmarks.loc2seq import download_dataset\n",
        "from genomic_benchmarks.data_check import is_downloaded, info, list_datasets"
      ],
      "execution_count": 1,
      "outputs": []
    },
    {
      "cell_type": "markdown",
      "metadata": {
        "id": "ux5FmBegeffv"
      },
      "source": [
        "#Dataset - human_nontata_promoters \n",
        "\n",
        "- testovacia sada obsahuje chybajuce pozorovanie **N**, ktore sa nevyskytuje v treningovom sete, pretoho ho odstranim "
      ]
    },
    {
      "cell_type": "code",
      "metadata": {
        "colab": {
          "base_uri": "https://localhost:8080/",
          "height": 199
        },
        "id": "ivw5yBAcyrLX",
        "outputId": "c963fa1f-2fef-46c9-cbba-e26285e5e0ae"
      },
      "source": [
        "info('human_nontata_promoters', 0)"
      ],
      "execution_count": 2,
      "outputs": [
        {
          "output_type": "stream",
          "name": "stdout",
          "text": [
            "Dataset `human_nontata_promoters` has 2 classes: negative, positive.\n",
            "\n",
            "All lenghts of genomic intervals equals 251.\n",
            "\n",
            "Totally 36131 sequences have been found, 27097 for training and 9034 for testing.\n"
          ]
        },
        {
          "output_type": "execute_result",
          "data": {
            "text/html": [
              "<div>\n",
              "<style scoped>\n",
              "    .dataframe tbody tr th:only-of-type {\n",
              "        vertical-align: middle;\n",
              "    }\n",
              "\n",
              "    .dataframe tbody tr th {\n",
              "        vertical-align: top;\n",
              "    }\n",
              "\n",
              "    .dataframe thead th {\n",
              "        text-align: right;\n",
              "    }\n",
              "</style>\n",
              "<table border=\"1\" class=\"dataframe\">\n",
              "  <thead>\n",
              "    <tr style=\"text-align: right;\">\n",
              "      <th></th>\n",
              "      <th>train</th>\n",
              "      <th>test</th>\n",
              "    </tr>\n",
              "  </thead>\n",
              "  <tbody>\n",
              "    <tr>\n",
              "      <th>negative</th>\n",
              "      <td>12355</td>\n",
              "      <td>4119</td>\n",
              "    </tr>\n",
              "    <tr>\n",
              "      <th>positive</th>\n",
              "      <td>14742</td>\n",
              "      <td>4915</td>\n",
              "    </tr>\n",
              "  </tbody>\n",
              "</table>\n",
              "</div>"
            ],
            "text/plain": [
              "          train  test\n",
              "negative  12355  4119\n",
              "positive  14742  4915"
            ]
          },
          "metadata": {},
          "execution_count": 2
        }
      ]
    },
    {
      "cell_type": "code",
      "metadata": {
        "colab": {
          "base_uri": "https://localhost:8080/"
        },
        "id": "_yFfNuoKyrPe",
        "outputId": "5da58895-9f26-454e-89c4-9f11e9dbe66c"
      },
      "source": [
        "download_dataset(\"human_nontata_promoters\", version=0)"
      ],
      "execution_count": 3,
      "outputs": [
        {
          "output_type": "stream",
          "name": "stdout",
          "text": [
            "Downloading 1VdUg0Zu8yfLS6QesBXwGz1PIQrTW3Ze4 into /root/.genomic_benchmarks/human_nontata_promoters.zip... Done.\n",
            "Unzipping...Done.\n"
          ]
        },
        {
          "output_type": "execute_result",
          "data": {
            "text/plain": [
              "PosixPath('/root/.genomic_benchmarks/human_nontata_promoters')"
            ]
          },
          "metadata": {},
          "execution_count": 3
        }
      ]
    },
    {
      "cell_type": "code",
      "metadata": {
        "colab": {
          "base_uri": "https://localhost:8080/"
        },
        "id": "yyuXy8ZNzj4T",
        "outputId": "d1d6a0fa-3676-4f65-b3f7-7aa828cf849b"
      },
      "source": [
        "SEQ_PATH = Path.home() / '.genomic_benchmarks' / 'human_nontata_promoters'\n",
        "CLASSES = [x.stem for x in (SEQ_PATH/'train').iterdir() if x.is_dir()]\n",
        "\n",
        "train_dset = tf.keras.preprocessing.text_dataset_from_directory(\n",
        "    SEQ_PATH / 'train',\n",
        "    batch_size=27097,\n",
        "    class_names=CLASSES)"
      ],
      "execution_count": 4,
      "outputs": [
        {
          "output_type": "stream",
          "name": "stdout",
          "text": [
            "Found 27097 files belonging to 2 classes.\n"
          ]
        }
      ]
    },
    {
      "cell_type": "code",
      "metadata": {
        "id": "IDE-jcqAf7qB"
      },
      "source": [
        "#tu mozno pridat PCA alebo nieco na zredukovanie dimenzie. Aj ked 251 je vpohode pre tento dataset\n",
        "\n",
        "def preprocess_notNN(dat):\n",
        "\n",
        "  dat_array = np.array(list(dat))\n",
        "\n",
        "  labels = np.array(dat_array[0][1]).astype('float32')\n",
        "  dataset = dat_array[0][0]\n",
        "\n",
        "  sequences_list = []\n",
        "  for seq in dataset:\n",
        "    if 'N' not in str(seq):\n",
        "      sequences_list.append(list(str(seq))[2:-1])\n",
        "\n",
        "  channels = {'A' : 0,'T' : 1,'C' : 2,'G' : 3}\n",
        "  \n",
        "  return np.array(pd.DataFrame(sequences_list).replace(channels)), labels"
      ],
      "execution_count": null,
      "outputs": []
    },
    {
      "cell_type": "code",
      "metadata": {
        "id": "t9LCQzP0f7tU"
      },
      "source": [
        "X_train, y_train = preprocess_notNN(train_dset)"
      ],
      "execution_count": null,
      "outputs": []
    },
    {
      "cell_type": "code",
      "metadata": {
        "colab": {
          "base_uri": "https://localhost:8080/"
        },
        "id": "S5bKbiFCh0ka",
        "outputId": "3c985e3e-d544-4232-f269-514c645bfe0b"
      },
      "source": [
        "SEQ_PATH = Path.home() / '.genomic_benchmarks' / 'human_nontata_promoters'\n",
        "CLASSES = [x.stem for x in (SEQ_PATH/'test').iterdir() if x.is_dir()]\n",
        "\n",
        "test_dset = tf.keras.preprocessing.text_dataset_from_directory(\n",
        "    SEQ_PATH / 'test',\n",
        "    batch_size=9034,\n",
        "    class_names=CLASSES) "
      ],
      "execution_count": 5,
      "outputs": [
        {
          "output_type": "stream",
          "name": "stdout",
          "text": [
            "Found 9034 files belonging to 2 classes.\n"
          ]
        }
      ]
    },
    {
      "cell_type": "code",
      "metadata": {
        "id": "4JLH6So2kPtO"
      },
      "source": [
        "X_test, y_test = preprocess_notNN(test_dset)"
      ],
      "execution_count": null,
      "outputs": []
    },
    {
      "cell_type": "code",
      "metadata": {
        "id": "_-Lkwsghk3ZN"
      },
      "source": [
        "def preprocess_NN(dat):\n",
        "\n",
        "  dat_array = np.array(list(dat))\n",
        "\n",
        "  labels = np.array(dat_array[0][1]).astype('float32')\n",
        "  dataset = dat_array[0][0]\n",
        "\n",
        "  sequences_list = []\n",
        "  for seq in dataset:\n",
        "    if not 'N' in str(seq):\n",
        "      sequences_list.append(list(str(seq))[2:-1])\n",
        "\n",
        "  samples_size = len(sequences_list)\n",
        "  sequence_size = min([len(x) for x in sequences_list])\n",
        "  ohe = np.zeros((samples_size, sequence_size, 4))\n",
        "  channels = {'A' : 0,'T' : 1,'C' : 2,'G' : 3}\n",
        "\n",
        "  for index, sequence in enumerate(sequences_list):\n",
        "    for pos, nucleotide in enumerate(sequence):\n",
        "        ohe[index, pos, channels[nucleotide]] = 1\n",
        "  \n",
        "  return ohe, labels, sequence_size"
      ],
      "execution_count": 13,
      "outputs": []
    },
    {
      "cell_type": "code",
      "metadata": {
        "id": "1_j3WZ8Qk3bB"
      },
      "source": [
        "\n",
        "X_train, y_train, sequence_size = preprocess_NN(train_dset)\n",
        "X_test, y_test, _ = preprocess_NN(test_dset)"
      ],
      "execution_count": 15,
      "outputs": []
    },
    {
      "cell_type": "markdown",
      "metadata": {
        "id": "TZDHImdXle4u"
      },
      "source": [
        "skusit ensemble s obycajnymi modeli a jednou CNN alebo potom este pridat jednu RNN a vyskusat to s nou\n",
        "\n",
        "1. samostatne modey bez NN\n",
        "2. modely s 1-nou NN - najprv CNN, potom RNN\n",
        "3. modely s 2-ma NN - CNN, RNN\n",
        "4. pouzit PCA na zredukovanie dimenzie"
      ]
    },
    {
      "cell_type": "code",
      "metadata": {
        "colab": {
          "base_uri": "https://localhost:8080/"
        },
        "id": "m9yjQMc1reOK",
        "outputId": "d206599e-07a4-414e-ed32-ca772bb23c90"
      },
      "source": [
        "from google.colab import drive\n",
        "#drive.mount('/content/drive',  force_remount=True)\n",
        "drive.mount('/content/drive',  force_remount=True)\n"
      ],
      "execution_count": 8,
      "outputs": [
        {
          "output_type": "stream",
          "name": "stdout",
          "text": [
            "Mounted at /content/drive\n"
          ]
        }
      ]
    },
    {
      "cell_type": "code",
      "metadata": {
        "id": "OC2UqqcyrCob"
      },
      "source": [
        "#sys.path.append('/content/drive/MyDrive/CEITEC/Python_files')\n",
        "#sys.path.append('/content/drive/MyDrive/Hockey_prediction/Python_script')\n",
        "sys.path.append('/content/drive/MyDrive/ML_Hackathon/')\n",
        "\n",
        "from help_functions import *"
      ],
      "execution_count": 10,
      "outputs": []
    },
    {
      "cell_type": "code",
      "metadata": {
        "id": "oPQ_dRp_rdKO",
        "colab": {
          "base_uri": "https://localhost:8080/"
        },
        "outputId": "faf8fbdb-3484-4c2e-bd3a-db14276580c7"
      },
      "source": [
        "def CNN_win_model(sequence_size):\n",
        "  model = Sequential([\n",
        "        Conv1D(filters = 32, kernel_size=8, padding='same', activation = 'relu', input_shape=(sequence_size, 4)),\n",
        "        Dropout(0.5),\n",
        "        Flatten(),\n",
        "        Dense(128, activation='relu'),\n",
        "        Dense(128, activation='relu'),\n",
        "        Dense(64, activation='relu'),\n",
        "        Dense(64, activation='relu'),\n",
        "        Dropout(0.5),\n",
        "        Dense(1, activation='sigmoid')\n",
        "    ])\n",
        "\n",
        "  model.summary()\n",
        "\n",
        "  return model"
      ],
      "execution_count": 22,
      "outputs": [
        {
          "output_type": "stream",
          "name": "stdout",
          "text": [
            "Model: \"sequential_2\"\n",
            "_________________________________________________________________\n",
            " Layer (type)                Output Shape              Param #   \n",
            "=================================================================\n",
            " conv1d_2 (Conv1D)           (None, 251, 32)           1056      \n",
            "                                                                 \n",
            " dropout_4 (Dropout)         (None, 251, 32)           0         \n",
            "                                                                 \n",
            " flatten_2 (Flatten)         (None, 8032)              0         \n",
            "                                                                 \n",
            " dense_9 (Dense)             (None, 128)               1028224   \n",
            "                                                                 \n",
            " dense_10 (Dense)            (None, 128)               16512     \n",
            "                                                                 \n",
            " dense_11 (Dense)            (None, 64)                8256      \n",
            "                                                                 \n",
            " dense_12 (Dense)            (None, 64)                4160      \n",
            "                                                                 \n",
            " dropout_5 (Dropout)         (None, 64)                0         \n",
            "                                                                 \n",
            " dense_13 (Dense)            (None, 1)                 65        \n",
            "                                                                 \n",
            "=================================================================\n",
            "Total params: 1,058,273\n",
            "Trainable params: 1,058,273\n",
            "Non-trainable params: 0\n",
            "_________________________________________________________________\n"
          ]
        }
      ]
    },
    {
      "cell_type": "code",
      "metadata": {
        "id": "VofQd5UXMyJT",
        "outputId": "9aef9ecd-dfbf-4892-cd11-5943a244b198",
        "colab": {
          "base_uri": "https://localhost:8080/"
        }
      },
      "source": [
        "X_train, X_test, y_train, y_test = train_test_split(X_train, y_train, train_size = 0.8, random_state = 20)\n",
        "model.compile(\n",
        "        optimizer='rmsprop',\n",
        "        loss='binary_crossentropy',\n",
        "        metrics=['accuracy']\n",
        "    )\n",
        "\n",
        "models_data = model.fit(X_train, y_train, batch_size=32, epochs=8, validation_data = (X_test, y_test))"
      ],
      "execution_count": 23,
      "outputs": [
        {
          "output_type": "stream",
          "name": "stdout",
          "text": [
            "Epoch 1/8\n",
            "434/434 [==============================] - 11s 23ms/step - loss: 0.4765 - accuracy: 0.7741 - val_loss: 0.3560 - val_accuracy: 0.8475\n",
            "Epoch 2/8\n",
            "434/434 [==============================] - 10s 22ms/step - loss: 0.3793 - accuracy: 0.8332 - val_loss: 0.3294 - val_accuracy: 0.8570\n",
            "Epoch 3/8\n",
            "434/434 [==============================] - 10s 22ms/step - loss: 0.3472 - accuracy: 0.8494 - val_loss: 0.3744 - val_accuracy: 0.8342\n",
            "Epoch 4/8\n",
            "434/434 [==============================] - 10s 22ms/step - loss: 0.3214 - accuracy: 0.8603 - val_loss: 0.3293 - val_accuracy: 0.8671\n",
            "Epoch 5/8\n",
            "434/434 [==============================] - 10s 22ms/step - loss: 0.3075 - accuracy: 0.8710 - val_loss: 0.3262 - val_accuracy: 0.8645\n",
            "Epoch 6/8\n",
            "434/434 [==============================] - 10s 22ms/step - loss: 0.2929 - accuracy: 0.8827 - val_loss: 0.3317 - val_accuracy: 0.8688\n",
            "Epoch 7/8\n",
            "434/434 [==============================] - 10s 22ms/step - loss: 0.2855 - accuracy: 0.8841 - val_loss: 0.3469 - val_accuracy: 0.8642\n",
            "Epoch 8/8\n",
            "434/434 [==============================] - 10s 23ms/step - loss: 0.2751 - accuracy: 0.8885 - val_loss: 0.3532 - val_accuracy: 0.8703\n"
          ]
        }
      ]
    },
    {
      "cell_type": "code",
      "metadata": {
        "id": "bV8j3H8tNyET",
        "outputId": "01aba34a-6601-4981-92e5-ad9dde6ad38b",
        "colab": {
          "base_uri": "https://localhost:8080/"
        }
      },
      "source": [
        "metrics = model.evaluate(X_test, y_test, verbose=0)\n",
        "print('model evaluation on unknown dataset [loss, accuracy]:', metrics)"
      ],
      "execution_count": 24,
      "outputs": [
        {
          "output_type": "stream",
          "name": "stdout",
          "text": [
            "model evaluation on unknown dataset [loss, accuracy]: [0.35315585136413574, 0.8702796101570129]\n"
          ]
        }
      ]
    },
    {
      "cell_type": "code",
      "metadata": {
        "id": "jTwhA8PKOpIM"
      },
      "source": [
        "model.add(BatchNormalization())\n",
        "  model.add(MaxPooling1D())"
      ],
      "execution_count": null,
      "outputs": []
    },
    {
      "cell_type": "code",
      "metadata": {
        "id": "HaPXPO6XOpK3"
      },
      "source": [
        ""
      ],
      "execution_count": null,
      "outputs": []
    },
    {
      "cell_type": "code",
      "metadata": {
        "id": "XHV5KfxtOpNt"
      },
      "source": [
        ""
      ],
      "execution_count": null,
      "outputs": []
    },
    {
      "cell_type": "code",
      "metadata": {
        "id": "sJ2Jnkd0OpP_"
      },
      "source": [
        ""
      ],
      "execution_count": null,
      "outputs": []
    },
    {
      "cell_type": "code",
      "metadata": {
        "id": "IqqDNXvfOpSe"
      },
      "source": [
        ""
      ],
      "execution_count": null,
      "outputs": []
    },
    {
      "cell_type": "code",
      "metadata": {
        "id": "zkdnUTqFOpUy"
      },
      "source": [
        ""
      ],
      "execution_count": null,
      "outputs": []
    },
    {
      "cell_type": "code",
      "metadata": {
        "id": "ht67W2raOpXc"
      },
      "source": [
        ""
      ],
      "execution_count": null,
      "outputs": []
    },
    {
      "cell_type": "code",
      "metadata": {
        "id": "wDTa6ABbOpaR"
      },
      "source": [
        ""
      ],
      "execution_count": null,
      "outputs": []
    }
  ]
}