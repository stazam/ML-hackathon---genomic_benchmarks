{
  "nbformat": 4,
  "nbformat_minor": 0,
  "metadata": {
    "colab": {
      "name": "Introduction_script.ipynb",
      "provenance": [],
      "mount_file_id": "https://github.com/stazam/ML-hackathon---genomic_benchmarks/blob/main/Introduction_script.ipynb",
      "authorship_tag": "ABX9TyN77arpk/J0/QPzHpE8OOOY",
      "include_colab_link": true
    },
    "kernelspec": {
      "name": "python3",
      "display_name": "Python 3"
    },
    "language_info": {
      "name": "python"
    },
    "accelerator": "TPU"
  },
  "cells": [
    {
      "cell_type": "markdown",
      "metadata": {
        "id": "view-in-github",
        "colab_type": "text"
      },
      "source": [
        "<a href=\"https://colab.research.google.com/github/stazam/ML-hackathon---genomic_benchmarks/blob/main/Introduction_script.ipynb\" target=\"_parent\"><img src=\"https://colab.research.google.com/assets/colab-badge.svg\" alt=\"Open In Colab\"/></a>"
      ]
    },
    {
      "cell_type": "code",
      "metadata": {
        "id": "lwdfWzo_yiyf"
      },
      "source": [
        "#pip install genomic_benchmarks --upgrade\n",
        "%%capture\n",
        "!pip install genomic_benchmarks\n",
        "\n",
        "import numpy as np\n",
        "import pandas as pd\n",
        "import tensorflow as tf\n",
        "from tensorflow import keras\n",
        "import sys\n",
        "import matplotlib.pyplot as plt\n",
        "from matplotlib.pyplot import figure\n",
        "\n",
        "\n",
        "from keras.models import Sequential\n",
        "from keras.layers import Dense, Dropout, Bidirectional, Activation, Flatten, MaxPooling1D, BatchNormalization, Conv1D\n",
        "from keras import optimizers\n",
        "from sklearn.model_selection import train_test_split\n",
        "from pathlib import Path\n",
        "\n",
        "\n",
        "from genomic_benchmarks.loc2seq import download_dataset\n",
        "from genomic_benchmarks.data_check import is_downloaded, info, list_datasets"
      ],
      "execution_count": 3,
      "outputs": []
    },
    {
      "cell_type": "markdown",
      "metadata": {
        "id": "ux5FmBegeffv"
      },
      "source": [
        "#Dataset - human_nontata_promoters \n",
        "\n",
        "- testovacia sada obsahuje chybajuce pozorovanie **N**, ktore sa nevyskytuje v treningovom sete, pretoho ho odstranim "
      ]
    },
    {
      "cell_type": "code",
      "metadata": {
        "colab": {
          "base_uri": "https://localhost:8080/",
          "height": 199
        },
        "id": "ivw5yBAcyrLX",
        "outputId": "3a49b6fe-f1b4-4f1e-8283-2114e4e0f47d"
      },
      "source": [
        "info('human_nontata_promoters', 0)"
      ],
      "execution_count": 4,
      "outputs": [
        {
          "output_type": "stream",
          "name": "stdout",
          "text": [
            "Dataset `human_nontata_promoters` has 2 classes: negative, positive.\n",
            "\n",
            "All lenghts of genomic intervals equals 251.\n",
            "\n",
            "Totally 36131 sequences have been found, 27097 for training and 9034 for testing.\n"
          ]
        },
        {
          "output_type": "execute_result",
          "data": {
            "text/html": [
              "<div>\n",
              "<style scoped>\n",
              "    .dataframe tbody tr th:only-of-type {\n",
              "        vertical-align: middle;\n",
              "    }\n",
              "\n",
              "    .dataframe tbody tr th {\n",
              "        vertical-align: top;\n",
              "    }\n",
              "\n",
              "    .dataframe thead th {\n",
              "        text-align: right;\n",
              "    }\n",
              "</style>\n",
              "<table border=\"1\" class=\"dataframe\">\n",
              "  <thead>\n",
              "    <tr style=\"text-align: right;\">\n",
              "      <th></th>\n",
              "      <th>train</th>\n",
              "      <th>test</th>\n",
              "    </tr>\n",
              "  </thead>\n",
              "  <tbody>\n",
              "    <tr>\n",
              "      <th>negative</th>\n",
              "      <td>12355</td>\n",
              "      <td>4119</td>\n",
              "    </tr>\n",
              "    <tr>\n",
              "      <th>positive</th>\n",
              "      <td>14742</td>\n",
              "      <td>4915</td>\n",
              "    </tr>\n",
              "  </tbody>\n",
              "</table>\n",
              "</div>"
            ],
            "text/plain": [
              "          train  test\n",
              "negative  12355  4119\n",
              "positive  14742  4915"
            ]
          },
          "metadata": {},
          "execution_count": 4
        }
      ]
    },
    {
      "cell_type": "code",
      "metadata": {
        "colab": {
          "base_uri": "https://localhost:8080/"
        },
        "id": "_yFfNuoKyrPe",
        "outputId": "d594514a-c083-48d9-c8b5-b8fd23a13ac6"
      },
      "source": [
        "download_dataset(\"human_nontata_promoters\", version=0)"
      ],
      "execution_count": 5,
      "outputs": [
        {
          "output_type": "stream",
          "name": "stdout",
          "text": [
            "Downloading 1VdUg0Zu8yfLS6QesBXwGz1PIQrTW3Ze4 into /root/.genomic_benchmarks/human_nontata_promoters.zip... Done.\n",
            "Unzipping...Done.\n"
          ]
        },
        {
          "output_type": "execute_result",
          "data": {
            "text/plain": [
              "PosixPath('/root/.genomic_benchmarks/human_nontata_promoters')"
            ]
          },
          "metadata": {},
          "execution_count": 5
        }
      ]
    },
    {
      "cell_type": "code",
      "metadata": {
        "colab": {
          "base_uri": "https://localhost:8080/"
        },
        "id": "yyuXy8ZNzj4T",
        "outputId": "fda22cdb-f639-40ae-e920-61b948a1b5d9"
      },
      "source": [
        "SEQ_PATH = Path.home() / '.genomic_benchmarks' / 'human_nontata_promoters'\n",
        "CLASSES = [x.stem for x in (SEQ_PATH/'train').iterdir() if x.is_dir()]\n",
        "\n",
        "train_dset = tf.keras.preprocessing.text_dataset_from_directory(\n",
        "    SEQ_PATH / 'train',\n",
        "    batch_size=27097,\n",
        "    class_names=CLASSES)"
      ],
      "execution_count": 6,
      "outputs": [
        {
          "output_type": "stream",
          "name": "stdout",
          "text": [
            "Found 27097 files belonging to 2 classes.\n"
          ]
        }
      ]
    },
    {
      "cell_type": "code",
      "metadata": {
        "id": "IDE-jcqAf7qB"
      },
      "source": [
        "#tu mozno pridat PCA alebo nieco na zredukovanie dimenzie. Aj ked 251 je vpohode pre tento dataset\n",
        "\n",
        "def preprocess_notNN(dat):\n",
        "\n",
        "  dat_array = np.array(list(dat))\n",
        "\n",
        "  labels = np.array(dat_array[0][1]).astype('float32')\n",
        "  dataset = dat_array[0][0]\n",
        "\n",
        "  ind_rem = []\n",
        "  sequences_list = []\n",
        "  for i,seq in enumerate(dataset):\n",
        "    if 'N' not in str(seq):\n",
        "      sequences_list.append(list(str(seq))[2:-1])\n",
        "    else:\n",
        "      ind_rem.append(i)  \n",
        "\n",
        "  channels = {'A' : 0,'T' : 1,'C' : 2,'G' : 3}\n",
        "  \n",
        "  return np.array(pd.DataFrame(sequences_list).replace(channels)), np.delete(labels,ind_rem)"
      ],
      "execution_count": 35,
      "outputs": []
    },
    {
      "cell_type": "code",
      "metadata": {
        "id": "t9LCQzP0f7tU"
      },
      "source": [
        "X_train, y_train = preprocess_notNN(train_dset)"
      ],
      "execution_count": 8,
      "outputs": []
    },
    {
      "cell_type": "code",
      "metadata": {
        "colab": {
          "base_uri": "https://localhost:8080/"
        },
        "id": "S5bKbiFCh0ka",
        "outputId": "418b4651-5740-4a26-f4e1-f4ae7339f49f"
      },
      "source": [
        "SEQ_PATH = Path.home() / '.genomic_benchmarks' / 'human_nontata_promoters'\n",
        "CLASSES = [x.stem for x in (SEQ_PATH/'test').iterdir() if x.is_dir()]\n",
        "\n",
        "test_dset = tf.keras.preprocessing.text_dataset_from_directory(\n",
        "    SEQ_PATH / 'test',\n",
        "    batch_size=9034,\n",
        "    class_names=CLASSES) "
      ],
      "execution_count": 9,
      "outputs": [
        {
          "output_type": "stream",
          "name": "stdout",
          "text": [
            "Found 9034 files belonging to 2 classes.\n"
          ]
        }
      ]
    },
    {
      "cell_type": "code",
      "metadata": {
        "id": "4JLH6So2kPtO"
      },
      "source": [
        "X_test, y_test = preprocess_notNN(test_dset)"
      ],
      "execution_count": 10,
      "outputs": []
    },
    {
      "cell_type": "code",
      "metadata": {
        "id": "_-Lkwsghk3ZN"
      },
      "source": [
        "def preprocess_NN(dat):\n",
        "\n",
        "  dat_array = np.array(list(dat))\n",
        "\n",
        "  labels = np.array(dat_array[0][1]).astype('float32')\n",
        "  dataset = dat_array[0][0]\n",
        "\n",
        "  ind_rem = []\n",
        "  sequences_list = []\n",
        "  for i,seq in enumerate(dataset):\n",
        "    if not 'N' in str(seq):\n",
        "      sequences_list.append(list(str(seq))[2:-1])\n",
        "    else:\n",
        "      ind_rem.append(i)\n",
        "\n",
        "\n",
        "  samples_size = len(sequences_list)\n",
        "  sequence_size = min([len(x) for x in sequences_list])\n",
        "  ohe = np.zeros((samples_size, sequence_size, 4))\n",
        "  channels = {'A' : 0,'T' : 1,'C' : 2,'G' : 3}\n",
        "\n",
        "  for index, sequence in enumerate(sequences_list):\n",
        "    for pos, nucleotide in enumerate(sequence):\n",
        "        ohe[index, pos, channels[nucleotide]] = 1\n",
        "  \n",
        "  return ohe, np.delete(labels,[ind_rem]), sequence_size"
      ],
      "execution_count": 11,
      "outputs": []
    },
    {
      "cell_type": "code",
      "metadata": {
        "id": "1_j3WZ8Qk3bB"
      },
      "source": [
        "X_train, y_train, sequence_size = preprocess_NN(train_dset)\n",
        "X_ev, y_ev, _ = preprocess_NN(test_dset)"
      ],
      "execution_count": 45,
      "outputs": []
    },
    {
      "cell_type": "code",
      "metadata": {
        "id": "VjZuBFNWRlEI",
        "outputId": "5742423d-320b-49a4-be58-72d5515a8363",
        "colab": {
          "base_uri": "https://localhost:8080/"
        }
      },
      "source": [
        "print(X_ev.shape)\n",
        "print(y_ev.shape)"
      ],
      "execution_count": 13,
      "outputs": [
        {
          "output_type": "stream",
          "name": "stdout",
          "text": [
            "(9033, 251, 4)\n",
            "(9033,)\n"
          ]
        }
      ]
    },
    {
      "cell_type": "markdown",
      "metadata": {
        "id": "TZDHImdXle4u"
      },
      "source": [
        "skusit ensemble s obycajnymi modeli a jednou CNN alebo potom este pridat jednu RNN a vyskusat to s nou\n",
        "\n",
        "1. samostatne modey bez NN\n",
        "2. modely s 1-nou NN - najprv CNN, potom RNN\n",
        "3. modely s 2-ma NN - CNN, RNN\n",
        "4. pouzit PCA na zredukovanie dimenzie"
      ]
    },
    {
      "cell_type": "code",
      "metadata": {
        "colab": {
          "base_uri": "https://localhost:8080/"
        },
        "id": "m9yjQMc1reOK",
        "outputId": "195cb2f2-b4db-4472-b947-0c702b0c3802"
      },
      "source": [
        "from google.colab import drive\n",
        "#drive.mount('/content/drive',  force_remount=True)\n",
        "drive.mount('/content/drive',  force_remount=True)\n"
      ],
      "execution_count": 14,
      "outputs": [
        {
          "output_type": "stream",
          "name": "stdout",
          "text": [
            "Mounted at /content/drive\n"
          ]
        }
      ]
    },
    {
      "cell_type": "code",
      "metadata": {
        "id": "OC2UqqcyrCob"
      },
      "source": [
        "#sys.path.append('/content/drive/MyDrive/CEITEC/Python_files')\n",
        "#sys.path.append('/content/drive/MyDrive/Hockey_prediction/Python_script')\n",
        "sys.path.append('/content/drive/MyDrive/ML_Hackathon/')\n",
        "\n",
        "from help_functions import *"
      ],
      "execution_count": 15,
      "outputs": []
    },
    {
      "cell_type": "markdown",
      "metadata": {
        "id": "DTzNVb-YW6fl"
      },
      "source": [
        "**Toto je moja najlepšia CNN architekrúra ktorou som dosiahol 86% (pár krát sa to prehuplo aj cez 87%).**"
      ]
    },
    {
      "cell_type": "code",
      "metadata": {
        "id": "oPQ_dRp_rdKO"
      },
      "source": [
        "def CNN_win_model(sequence_size):\n",
        "  model = Sequential([\n",
        "        Conv1D(filters = 32, kernel_size=8, padding='same', activation = 'relu', input_shape=(sequence_size, 4)),\n",
        "        Dropout(0.5),\n",
        "        Flatten(),\n",
        "        Dense(128, activation='relu'),\n",
        "        Dense(128, activation='relu'),\n",
        "        Dense(64, activation='relu'),\n",
        "        Dense(64, activation='relu'),\n",
        "        Dropout(0.5),\n",
        "        Dense(1, activation='sigmoid')\n",
        "    ])\n",
        "\n",
        "  model.summary()\n",
        "\n",
        "  return model"
      ],
      "execution_count": 16,
      "outputs": []
    },
    {
      "cell_type": "markdown",
      "metadata": {
        "id": "4T9-Wkj83Fdp"
      },
      "source": [
        "**Toto je moja najlepšia CNN + Bi-LSTM architekrúra ktorou som dosiahol 86,5%.**\n"
      ]
    },
    {
      "cell_type": "code",
      "metadata": {
        "id": "Gi9rG-7sd0I-"
      },
      "source": [
        "def CNN_LSTM_model(sequence_size):\n",
        "  model = Sequential([\n",
        "        Conv1D(filters = 32, kernel_size=8, padding='same', activation = 'relu', input_shape=(sequence_size, 4)),\n",
        "        Bidirectional(keras.layers.LSTM(32, return_sequences=True)),\n",
        "        Bidirectional(keras.layers.LSTM(16, return_sequences=True)),\n",
        "        Dropout(0.5),\n",
        "        Flatten(),\n",
        "        Dense(128, activation='relu'),\n",
        "        Dense(16, activation='relu'),\n",
        "        Dropout(0.5),\n",
        "        Dense(1, activation='sigmoid')\n",
        "    ])\n",
        "\n",
        "  model.summary()\n",
        "\n",
        "  return model\n",
        "\n"
      ],
      "execution_count": 46,
      "outputs": []
    },
    {
      "cell_type": "code",
      "metadata": {
        "colab": {
          "base_uri": "https://localhost:8080/"
        },
        "id": "VofQd5UXMyJT",
        "outputId": "e7583b2d-588f-4eec-b0c3-5dde4d4a4724"
      },
      "source": [
        "X_train, X_test, y_train, y_test = train_test_split(X_train, y_train, train_size = 0.8, random_state = 20)\n",
        "model = CNN_model(sequence_size)\n",
        "\n",
        "model.compile(\n",
        "        optimizer='rmsprop',\n",
        "        loss='binary_crossentropy',\n",
        "        metrics=['accuracy']\n",
        "    )\n",
        "\n",
        "models_data = model.fit(X_train, y_train, batch_size=32, epochs=8, validation_data = (X_test, y_test))"
      ],
      "execution_count": 47,
      "outputs": [
        {
          "output_type": "stream",
          "name": "stdout",
          "text": [
            "Model: \"sequential_3\"\n",
            "_________________________________________________________________\n",
            " Layer (type)                Output Shape              Param #   \n",
            "=================================================================\n",
            " conv1d_3 (Conv1D)           (None, 251, 32)           1056      \n",
            "                                                                 \n",
            " bidirectional_6 (Bidirectio  (None, 251, 64)          16640     \n",
            " nal)                                                            \n",
            "                                                                 \n",
            " bidirectional_7 (Bidirectio  (None, 251, 32)          10368     \n",
            " nal)                                                            \n",
            "                                                                 \n",
            " dropout_6 (Dropout)         (None, 251, 32)           0         \n",
            "                                                                 \n",
            " flatten_3 (Flatten)         (None, 8032)              0         \n",
            "                                                                 \n",
            " dense_7 (Dense)             (None, 128)               1028224   \n",
            "                                                                 \n",
            " dense_8 (Dense)             (None, 64)                8256      \n",
            "                                                                 \n",
            " dropout_7 (Dropout)         (None, 64)                0         \n",
            "                                                                 \n",
            " dense_9 (Dense)             (None, 1)                 65        \n",
            "                                                                 \n",
            "=================================================================\n",
            "Total params: 1,064,609\n",
            "Trainable params: 1,064,609\n",
            "Non-trainable params: 0\n",
            "_________________________________________________________________\n",
            "Epoch 1/8\n",
            "678/678 [==============================] - 265s 380ms/step - loss: 0.4878 - accuracy: 0.7676 - val_loss: 0.4179 - val_accuracy: 0.8044\n",
            "Epoch 2/8\n",
            "678/678 [==============================] - 255s 376ms/step - loss: 0.4164 - accuracy: 0.8078 - val_loss: 0.3854 - val_accuracy: 0.8207\n",
            "Epoch 3/8\n",
            "678/678 [==============================] - 255s 376ms/step - loss: 0.3810 - accuracy: 0.8278 - val_loss: 0.3708 - val_accuracy: 0.8347\n",
            "Epoch 4/8\n",
            "678/678 [==============================] - 255s 377ms/step - loss: 0.3598 - accuracy: 0.8402 - val_loss: 0.3954 - val_accuracy: 0.8284\n",
            "Epoch 5/8\n",
            "678/678 [==============================] - 257s 379ms/step - loss: 0.3429 - accuracy: 0.8483 - val_loss: 0.3861 - val_accuracy: 0.8244\n",
            "Epoch 6/8\n",
            "678/678 [==============================] - 257s 379ms/step - loss: 0.3289 - accuracy: 0.8555 - val_loss: 0.3734 - val_accuracy: 0.8343\n",
            "Epoch 7/8\n",
            "678/678 [==============================] - 261s 385ms/step - loss: 0.3143 - accuracy: 0.8639 - val_loss: 0.3535 - val_accuracy: 0.8480\n",
            "Epoch 8/8\n",
            "678/678 [==============================] - 260s 384ms/step - loss: 0.2994 - accuracy: 0.8706 - val_loss: 0.3518 - val_accuracy: 0.8472\n"
          ]
        }
      ]
    },
    {
      "cell_type": "code",
      "metadata": {
        "colab": {
          "base_uri": "https://localhost:8080/"
        },
        "id": "bV8j3H8tNyET",
        "outputId": "b2f0b6df-c193-4b53-8cd3-4451d14a095c"
      },
      "source": [
        "metrics = model.evaluate(X_ev, y_ev, verbose=0)\n",
        "print('model evaluation on unknown dataset [loss, accuracy]:', metrics)"
      ],
      "execution_count": 48,
      "outputs": [
        {
          "output_type": "stream",
          "name": "stdout",
          "text": [
            "model evaluation on unknown dataset [loss, accuracy]: [0.33043742179870605, 0.8612864017486572]\n"
          ]
        }
      ]
    },
    {
      "cell_type": "code",
      "metadata": {
        "id": "0s1n8u8vkbGd"
      },
      "source": [
        "X_train, y_train = preprocess_notNN(train_dset)\n",
        "X_test, y_test = preprocess_notNN(test_dset)"
      ],
      "execution_count": 36,
      "outputs": []
    },
    {
      "cell_type": "code",
      "metadata": {
        "id": "jTwhA8PKOpIM"
      },
      "source": [
        "from tensorflow.keras.preprocessing.text import Tokenizer\n",
        "from tensorflow.keras.preprocessing.sequence import pad_sequences\n",
        "\n"
      ],
      "execution_count": 18,
      "outputs": []
    },
    {
      "cell_type": "code",
      "metadata": {
        "id": "WCD219U1YHfS"
      },
      "source": [
        "vocab_size = 10\n",
        "embedding_dim = 40\n",
        "max_length = 251\n",
        "trunc_type='post'\n",
        "padding_type='post'\n",
        "oov_tok = \"<OOV>\""
      ],
      "execution_count": null,
      "outputs": []
    },
    {
      "cell_type": "code",
      "metadata": {
        "id": "HaPXPO6XOpK3"
      },
      "source": [
        "def preprocess_notNN(dat):\n",
        "\n",
        "  dat_array = np.array(list(dat))\n",
        "\n",
        "  labels = np.array(dat_array[0][1]).astype('float32')\n",
        "  dataset = dat_array[0][0]\n",
        "\n",
        "  sequences_list = []\n",
        "  for seq in dataset:\n",
        "    if 'N' not in str(seq):\n",
        "      sequences_list.append(list(str(seq))[2:-1])\n",
        "\n",
        "  channels = {'A' : 0,'T' : 1,'C' : 2,'G' : 3}\n",
        "  \n",
        "  return np.array(pd.DataFrame(sequences_list).replace(channels)), labels"
      ],
      "execution_count": 18,
      "outputs": []
    },
    {
      "cell_type": "code",
      "metadata": {
        "colab": {
          "base_uri": "https://localhost:8080/",
          "height": 234
        },
        "id": "XHV5KfxtOpNt",
        "outputId": "99ec62a2-ad4c-4f45-ce2c-3c692e9bacd5"
      },
      "source": [
        "model = tf.keras.Sequential([\n",
        "    tf.keras.layers.Embedding(vocab_size, embedding_dim, input_length=max_length),\n",
        "    tf.keras.layers.GlobalAveragePooling1D(),\n",
        "    tf.keras.layers.Dense(24, activation='relu'),\n",
        "    tf.keras.layers.Dense(1, activation='sigmoid')\n",
        "])\n",
        "model.compile(loss='binary_crossentropy',optimizer='adam',metrics=['accuracy'])"
      ],
      "execution_count": 19,
      "outputs": [
        {
          "output_type": "error",
          "ename": "NameError",
          "evalue": "ignored",
          "traceback": [
            "\u001b[0;31m---------------------------------------------------------------------------\u001b[0m",
            "\u001b[0;31mNameError\u001b[0m                                 Traceback (most recent call last)",
            "\u001b[0;32m<ipython-input-19-ae61715c42b3>\u001b[0m in \u001b[0;36m<module>\u001b[0;34m()\u001b[0m\n\u001b[1;32m      1\u001b[0m model = tf.keras.Sequential([\n\u001b[0;32m----> 2\u001b[0;31m     \u001b[0mtf\u001b[0m\u001b[0;34m.\u001b[0m\u001b[0mkeras\u001b[0m\u001b[0;34m.\u001b[0m\u001b[0mlayers\u001b[0m\u001b[0;34m.\u001b[0m\u001b[0mEmbedding\u001b[0m\u001b[0;34m(\u001b[0m\u001b[0mvocab_size\u001b[0m\u001b[0;34m,\u001b[0m \u001b[0membedding_dim\u001b[0m\u001b[0;34m,\u001b[0m \u001b[0minput_length\u001b[0m\u001b[0;34m=\u001b[0m\u001b[0mmax_length\u001b[0m\u001b[0;34m)\u001b[0m\u001b[0;34m,\u001b[0m\u001b[0;34m\u001b[0m\u001b[0;34m\u001b[0m\u001b[0m\n\u001b[0m\u001b[1;32m      3\u001b[0m     \u001b[0mtf\u001b[0m\u001b[0;34m.\u001b[0m\u001b[0mkeras\u001b[0m\u001b[0;34m.\u001b[0m\u001b[0mlayers\u001b[0m\u001b[0;34m.\u001b[0m\u001b[0mGlobalAveragePooling1D\u001b[0m\u001b[0;34m(\u001b[0m\u001b[0;34m)\u001b[0m\u001b[0;34m,\u001b[0m\u001b[0;34m\u001b[0m\u001b[0;34m\u001b[0m\u001b[0m\n\u001b[1;32m      4\u001b[0m     \u001b[0mtf\u001b[0m\u001b[0;34m.\u001b[0m\u001b[0mkeras\u001b[0m\u001b[0;34m.\u001b[0m\u001b[0mlayers\u001b[0m\u001b[0;34m.\u001b[0m\u001b[0mDense\u001b[0m\u001b[0;34m(\u001b[0m\u001b[0;36m24\u001b[0m\u001b[0;34m,\u001b[0m \u001b[0mactivation\u001b[0m\u001b[0;34m=\u001b[0m\u001b[0;34m'relu'\u001b[0m\u001b[0;34m)\u001b[0m\u001b[0;34m,\u001b[0m\u001b[0;34m\u001b[0m\u001b[0;34m\u001b[0m\u001b[0m\n\u001b[1;32m      5\u001b[0m     \u001b[0mtf\u001b[0m\u001b[0;34m.\u001b[0m\u001b[0mkeras\u001b[0m\u001b[0;34m.\u001b[0m\u001b[0mlayers\u001b[0m\u001b[0;34m.\u001b[0m\u001b[0mDense\u001b[0m\u001b[0;34m(\u001b[0m\u001b[0;36m1\u001b[0m\u001b[0;34m,\u001b[0m \u001b[0mactivation\u001b[0m\u001b[0;34m=\u001b[0m\u001b[0;34m'sigmoid'\u001b[0m\u001b[0;34m)\u001b[0m\u001b[0;34m\u001b[0m\u001b[0;34m\u001b[0m\u001b[0m\n",
            "\u001b[0;31mNameError\u001b[0m: name 'vocab_size' is not defined"
          ]
        }
      ]
    },
    {
      "cell_type": "code",
      "metadata": {
        "id": "sJ2Jnkd0OpP_"
      },
      "source": [
        ""
      ],
      "execution_count": null,
      "outputs": []
    },
    {
      "cell_type": "code",
      "metadata": {
        "id": "IqqDNXvfOpSe"
      },
      "source": [
        ""
      ],
      "execution_count": null,
      "outputs": []
    },
    {
      "cell_type": "code",
      "metadata": {
        "id": "zkdnUTqFOpUy"
      },
      "source": [
        ""
      ],
      "execution_count": null,
      "outputs": []
    },
    {
      "cell_type": "code",
      "metadata": {
        "id": "ht67W2raOpXc"
      },
      "source": [
        ""
      ],
      "execution_count": null,
      "outputs": []
    },
    {
      "cell_type": "code",
      "metadata": {
        "id": "wDTa6ABbOpaR"
      },
      "source": [
        ""
      ],
      "execution_count": null,
      "outputs": []
    }
  ]
}